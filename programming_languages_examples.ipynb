{
 "cells": [
  {
   "cell_type": "markdown",
   "id": "1b609330",
   "metadata": {},
   "source": [
    "# Explorando Lenguajes de Programación\n",
    "Un cuaderno interactivo que explora diferentes lenguajes de programación con ejemplos prácticos."
   ]
  },
  {
   "cell_type": "markdown",
   "id": "37c923e5",
   "metadata": {},
   "source": [
    "## Introducción a los Lenguajes de Programación\n",
    "\n",
    "Los lenguajes de programación son herramientas fundamentales que nos permiten comunicarnos con las computadoras y crear software. Python destaca por su simplicidad y versatilidad, haciéndolo ideal para principiantes y expertos."
   ]
  },
  {
   "cell_type": "markdown",
   "id": "bd55d1e0",
   "metadata": {},
   "source": [
    "## Ejemplo en Python: Operaciones Básicas"
   ]
  },
  {
   "cell_type": "code",
   "execution_count": null,
   "id": "d14dd31d",
   "metadata": {},
   "outputs": [],
   "source": [
    "# Operaciones matemáticas\n",
    "a = 10\n",
    "b = 5\n",
    "\n",
    "suma = a + b\n",
    "resta = a - b\n",
    "multiplicacion = a * b\n",
    "division = a / b\n",
    "\n",
    "print(f\"Suma: {suma}\")\n",
    "print(f\"Resta: {resta}\")\n",
    "print(f\"Multiplicación: {multiplicacion}\")\n",
    "print(f\"División: {division}\")\n",
    "\n",
    "# Manipulación de cadenas\n",
    "texto = \"Hola Mundo\"\n",
    "print(f\"\\nTexto original: {texto}\")\n",
    "print(f\"Mayúsculas: {texto.upper()}\")\n",
    "print(f\"Longitud: {len(texto)}\")"
   ]
  },
  {
   "cell_type": "markdown",
   "id": "214d2dc9",
   "metadata": {},
   "source": [
    "## Ejemplo en JavaScript: Manipulación de Arrays"
   ]
  },
  {
   "cell_type": "code",
   "execution_count": null,
   "id": "c2a7c540",
   "metadata": {
    "vscode": {
     "languageId": "javascript"
    }
   },
   "outputs": [],
   "source": [
    "// Crear y modificar arrays\n",
    "let numeros = [1, 2, 3, 4, 5];\n",
    "console.log(\"Array original:\", numeros);\n",
    "\n",
    "// Agregar elementos\n",
    "numeros.push(6);\n",
    "console.log(\"Después de push:\", numeros);\n",
    "\n",
    "// Mapear elementos\n",
    "let duplicados = numeros.map(n => n * 2);\n",
    "console.log(\"Números duplicados:\", duplicados);\n",
    "\n",
    "// Filtrar elementos\n",
    "let pares = numeros.filter(n => n % 2 === 0);\n",
    "console.log(\"Números pares:\", pares);"
   ]
  },
  {
   "cell_type": "markdown",
   "id": "518f5c2c",
   "metadata": {},
   "source": [
    "## Ejemplo en Java: Clases y Objetos"
   ]
  },
  {
   "cell_type": "code",
   "execution_count": null,
   "id": "71e77c8a",
   "metadata": {
    "vscode": {
     "languageId": "java"
    }
   },
   "outputs": [],
   "source": [
    "public class Persona {\n",
    "    private String nombre;\n",
    "    private int edad;\n",
    "\n",
    "    public Persona(String nombre, int edad) {\n",
    "        this.nombre = nombre;\n",
    "        this.edad = edad;\n",
    "    }\n",
    "\n",
    "    public void saludar() {\n",
    "        System.out.println(\"Hola, soy \" + nombre + \" y tengo \" + edad + \" años.\");\n",
    "    }\n",
    "\n",
    "    public static void main(String[] args) {\n",
    "        Persona persona1 = new Persona(\"Ana\", 25);\n",
    "        persona1.saludar();\n",
    "    }\n",
    "}"
   ]
  },
  {
   "cell_type": "markdown",
   "id": "f4087af8",
   "metadata": {},
   "source": [
    "## Ejemplo en C++: Uso de Punteros"
   ]
  },
  {
   "cell_type": "code",
   "execution_count": null,
   "id": "5cf2197f",
   "metadata": {
    "vscode": {
     "languageId": "cpp"
    }
   },
   "outputs": [],
   "source": [
    "#include <iostream>\n",
    "using namespace std;\n",
    "\n",
    "int main() {\n",
    "    // Declaración de variables y punteros\n",
    "    int numero = 42;\n",
    "    int* ptr = &numero;\n",
    "\n",
    "    cout << \"Valor de numero: \" << numero << endl;\n",
    "    cout << \"Dirección de memoria: \" << ptr << endl;\n",
    "    cout << \"Valor a través del puntero: \" << *ptr << endl;\n",
    "\n",
    "    // Modificar valor mediante puntero\n",
    "    *ptr = 100;\n",
    "    cout << \"Nuevo valor de numero: \" << numero << endl;\n",
    "\n",
    "    return 0;\n",
    "}"
   ]
  },
  {
   "cell_type": "markdown",
   "id": "e3665834",
   "metadata": {},
   "source": [
    "## Ejemplo en Python: Funciones Personalizables"
   ]
  },
  {
   "cell_type": "code",
   "execution_count": null,
   "id": "e57ec55c",
   "metadata": {},
   "outputs": [],
   "source": [
    "def calcular_precio_final(precio_base, descuento=0, impuesto=0.21):\n",
    "    \"\"\"\n",
    "    Calcula el precio final de un producto considerando descuento e impuesto.\n",
    "    \n",
    "    Args:\n",
    "        precio_base (float): Precio original del producto\n",
    "        descuento (float): Porcentaje de descuento (0-100)\n",
    "        impuesto (float): Porcentaje de impuesto (por defecto 21%)\n",
    "    \"\"\"\n",
    "    precio_con_descuento = precio_base * (1 - descuento/100)\n",
    "    precio_final = precio_con_descuento * (1 + impuesto)\n",
    "    return precio_final\n",
    "\n",
    "# Ejemplos de uso\n",
    "precio1 = calcular_precio_final(100)  # Sin descuento\n",
    "precio2 = calcular_precio_final(100, descuento=20)  # Con 20% descuento\n",
    "precio3 = calcular_precio_final(100, descuento=10, impuesto=0.10)  # Personalizado\n",
    "\n",
    "print(f\"Precio 1: {precio1:.2f}\")\n",
    "print(f\"Precio 2: {precio2:.2f}\")\n",
    "print(f\"Precio 3: {precio3:.2f}\")"
   ]
  }
 ],
 "metadata": {
  "language_info": {
   "name": "python"
  }
 },
 "nbformat": 4,
 "nbformat_minor": 5
}
