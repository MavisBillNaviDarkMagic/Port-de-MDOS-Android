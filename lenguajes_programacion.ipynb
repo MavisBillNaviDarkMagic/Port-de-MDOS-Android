{
 "cells": [
  {
   "cell_type": "markdown",
   "id": "d6466860",
   "metadata": {},
   "source": [
    "# Introducción a los Lenguajes de Programación\n",
    "\n",
    "Los lenguajes de programación son herramientas fundamentales que permiten a los desarrolladores comunicarse con las computadoras. Cada lenguaje tiene sus propias reglas sintácticas y casos de uso específicos.\n",
    "\n",
    "En este notebook, exploraremos diferentes lenguajes de programación con ejemplos prácticos y modificables."
   ]
  },
  {
   "cell_type": "markdown",
   "id": "a590e581",
   "metadata": {},
   "source": [
    "## Python - Cálculo de Factorial\n",
    "\n",
    "Python es conocido por su sintaxis clara y legible. Aquí hay un ejemplo de una función para calcular el factorial de un número:"
   ]
  },
  {
   "cell_type": "code",
   "execution_count": null,
   "id": "ec6a8d53",
   "metadata": {},
   "outputs": [],
   "source": [
    "def calcular_factorial(n):\n",
    "    if n < 0:\n",
    "        return \"No existe factorial de números negativos\"\n",
    "    if n == 0 or n == 1:\n",
    "        return 1\n",
    "    \n",
    "    resultado = 1\n",
    "    for i in range(1, n + 1):\n",
    "        resultado *= i\n",
    "    return resultado\n",
    "\n",
    "# Ejemplo de uso\n",
    "numero = 5\n",
    "print(f\"El factorial de {numero} es: {calcular_factorial(numero)}\")"
   ]
  },
  {
   "cell_type": "markdown",
   "id": "26bd13a2",
   "metadata": {},
   "source": [
    "## JavaScript - Manipulación de Arrays\n",
    "\n",
    "JavaScript es esencial para el desarrollo web. Aquí hay un ejemplo de manipulación de arrays:"
   ]
  },
  {
   "cell_type": "code",
   "execution_count": null,
   "id": "d7f46148",
   "metadata": {
    "vscode": {
     "languageId": "javascript"
    }
   },
   "outputs": [],
   "source": [
    "// Función para filtrar números pares y duplicarlos\n",
    "function filtrarYDuplicar(array) {\n",
    "    return array\n",
    "        .filter(num => num % 2 === 0)\n",
    "        .map(num => num * 2);\n",
    "}\n",
    "\n",
    "// Ejemplo de uso\n",
    "const numeros = [1, 2, 3, 4, 5, 6];\n",
    "console.log(\"Array original:\", numeros);\n",
    "console.log(\"Números pares duplicados:\", filtrarYDuplicar(numeros));"
   ]
  },
  {
   "cell_type": "markdown",
   "id": "8f0914e2",
   "metadata": {},
   "source": [
    "## Java - Suma de Números\n",
    "\n",
    "Java es un lenguaje orientado a objetos muy popular. Aquí hay una clase simple para sumar números:"
   ]
  },
  {
   "cell_type": "code",
   "execution_count": null,
   "id": "cbfc3d13",
   "metadata": {
    "vscode": {
     "languageId": "java"
    }
   },
   "outputs": [],
   "source": [
    "public class Calculadora {\n",
    "    public int sumar(int a, int b) {\n",
    "        return a + b;\n",
    "    }\n",
    "\n",
    "    public static void main(String[] args) {\n",
    "        Calculadora calc = new Calculadora();\n",
    "        int resultado = calc.sumar(5, 3);\n",
    "        System.out.println(\"La suma es: \" + resultado);\n",
    "    }\n",
    "}"
   ]
  },
  {
   "cell_type": "markdown",
   "id": "f7064dd6",
   "metadata": {},
   "source": [
    "## C++ - Uso de Punteros\n",
    "\n",
    "C++ es conocido por su eficiencia y control de memoria. Aquí hay un ejemplo usando punteros:"
   ]
  },
  {
   "cell_type": "code",
   "execution_count": null,
   "id": "ea47930c",
   "metadata": {
    "vscode": {
     "languageId": "cpp"
    }
   },
   "outputs": [],
   "source": [
    "#include <iostream>\n",
    "using namespace std;\n",
    "\n",
    "void intercambiar(int* a, int* b) {\n",
    "    int temp = *a;\n",
    "    *a = *b;\n",
    "    *b = temp;\n",
    "}\n",
    "\n",
    "int main() {\n",
    "    int x = 5;\n",
    "    int y = 10;\n",
    "    \n",
    "    cout << \"Antes del intercambio: x = \" << x << \", y = \" << y << endl;\n",
    "    intercambiar(&x, &y);\n",
    "    cout << \"Después del intercambio: x = \" << x << \", y = \" << y << endl;\n",
    "    \n",
    "    return 0;\n",
    "}"
   ]
  },
  {
   "cell_type": "markdown",
   "id": "6c675bad",
   "metadata": {},
   "source": [
    "# Introducción a los Lenguajes de Programación\n",
    "\n",
    "Los lenguajes de programación son herramientas fundamentales que permiten a los desarrolladores crear software y comunicarse con las computadoras. Cada lenguaje tiene sus propias características y casos de uso específicos.\n",
    "\n",
    "En este notebook, exploraremos ejemplos prácticos en diferentes lenguajes de programación."
   ]
  },
  {
   "cell_type": "markdown",
   "id": "b0f10767",
   "metadata": {},
   "source": [
    "## Python - Cálculo de Factorial\n",
    "\n",
    "Python es conocido por su simplicidad y legibilidad. Aquí hay un ejemplo de una función para calcular el factorial de un número."
   ]
  },
  {
   "cell_type": "code",
   "execution_count": null,
   "id": "869f4c1d",
   "metadata": {},
   "outputs": [],
   "source": [
    "def calcular_factorial(n):\n",
    "    if n == 0 or n == 1:\n",
    "        return 1\n",
    "    else:\n",
    "        return n * calcular_factorial(n-1)\n",
    "\n",
    "# Ejemplo de uso\n",
    "numero = 5\n",
    "resultado = calcular_factorial(numero)\n",
    "print(f\"El factorial de {numero} es {resultado}\")"
   ]
  },
  {
   "cell_type": "markdown",
   "id": "7839fac1",
   "metadata": {},
   "source": [
    "## JavaScript - Manipulación de Arrays\n",
    "\n",
    "JavaScript es excelente para manipulación de datos y programación web. Este ejemplo muestra cómo trabajar con arrays."
   ]
  },
  {
   "cell_type": "code",
   "execution_count": null,
   "id": "3940d40f",
   "metadata": {
    "vscode": {
     "languageId": "javascript"
    }
   },
   "outputs": [],
   "source": [
    "// Función para filtrar números pares\n",
    "function filtrarPares(array) {\n",
    "    return array.filter(num => num % 2 === 0);\n",
    "}\n",
    "\n",
    "// Ejemplo de uso\n",
    "const numeros = [1, 2, 3, 4, 5, 6, 7, 8, 9, 10];\n",
    "const pares = filtrarPares(numeros);\n",
    "console.log(\"Números pares:\", pares);"
   ]
  },
  {
   "cell_type": "markdown",
   "id": "9e510f5c",
   "metadata": {},
   "source": [
    "## Java - Clase Básica\n",
    "\n",
    "Java es un lenguaje orientado a objetos muy popular. Aquí hay un ejemplo de una clase simple."
   ]
  },
  {
   "cell_type": "code",
   "execution_count": null,
   "id": "3fec874b",
   "metadata": {
    "vscode": {
     "languageId": "java"
    }
   },
   "outputs": [],
   "source": [
    "public class Calculadora {\n",
    "    public double sumar(double a, double b) {\n",
    "        return a + b;\n",
    "    }\n",
    "    \n",
    "    public double multiplicar(double a, double b) {\n",
    "        return a * b;\n",
    "    }\n",
    "    \n",
    "    public static void main(String[] args) {\n",
    "        Calculadora calc = new Calculadora();\n",
    "        System.out.println(\"Suma: \" + calc.sumar(5, 3));\n",
    "        System.out.println(\"Multiplicación: \" + calc.multiplicar(4, 2));\n",
    "    }\n",
    "}"
   ]
  },
  {
   "cell_type": "markdown",
   "id": "d2660a85",
   "metadata": {},
   "source": [
    "## C++ - Programa con Bucles y Condiciones\n",
    "\n",
    "C++ es conocido por su eficiencia y control sobre la memoria. Este ejemplo muestra un programa simple con bucles."
   ]
  },
  {
   "cell_type": "code",
   "execution_count": null,
   "id": "40456517",
   "metadata": {
    "vscode": {
     "languageId": "cpp"
    }
   },
   "outputs": [],
   "source": [
    "#include <iostream>\n",
    "using namespace std;\n",
    "\n",
    "int sumaHastaN(int n) {\n",
    "    int suma = 0;\n",
    "    for(int i = 1; i <= n; i++) {\n",
    "        if(i % 2 == 0) {  // Solo suma números pares\n",
    "            suma += i;\n",
    "        }\n",
    "    }\n",
    "    return suma;\n",
    "}\n",
    "\n",
    "int main() {\n",
    "    int n = 10;\n",
    "    cout << \"La suma de los números pares hasta \" << n << \" es: \" << sumaHastaN(n) << endl;\n",
    "    return 0;\n",
    "}"
   ]
  }
 ],
 "metadata": {
  "language_info": {
   "name": "python"
  }
 },
 "nbformat": 4,
 "nbformat_minor": 5
}
