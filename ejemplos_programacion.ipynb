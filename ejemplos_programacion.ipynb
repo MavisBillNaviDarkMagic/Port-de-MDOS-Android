{
 "cells": [
  {
   "cell_type": "markdown",
   "id": "80d0f2ed",
   "metadata": {},
   "source": [
    "# Ejemplos de Lenguajes de Programación\n",
    "Este cuaderno contiene ejemplos de código en diferentes lenguajes de programación."
   ]
  },
  {
   "cell_type": "markdown",
   "id": "52fd0d63",
   "metadata": {},
   "source": [
    "## Introducción a los Lenguajes de Programación\n",
    "\n",
    "Los lenguajes de programación son herramientas fundamentales que permiten a los desarrolladores crear software y comunicarse con las computadoras. Cada lenguaje tiene sus propias características y casos de uso específicos.\n",
    "\n",
    "A continuación, veremos ejemplos en diferentes lenguajes de programación populares."
   ]
  },
  {
   "cell_type": "markdown",
   "id": "8ebafed5",
   "metadata": {},
   "source": [
    "## Ejemplo de Código en Python\n",
    "\n",
    "Python es conocido por su sintaxis clara y legible. Aquí hay un ejemplo de una función que calcula el factorial de un número:"
   ]
  },
  {
   "cell_type": "code",
   "execution_count": null,
   "id": "3a83368d",
   "metadata": {},
   "outputs": [],
   "source": [
    "def factorial(n):\n",
    "    if n == 0 or n == 1:\n",
    "        return 1\n",
    "    else:\n",
    "        return n * factorial(n-1)\n",
    "\n",
    "# Ejemplo de uso\n",
    "numero = 5\n",
    "print(f\"El factorial de {numero} es: {factorial(numero)}\")"
   ]
  },
  {
   "cell_type": "markdown",
   "id": "f7965179",
   "metadata": {},
   "source": [
    "## Ejemplo de Código en JavaScript\n",
    "\n",
    "JavaScript es ampliamente utilizado en desarrollo web. Aquí hay una función que invierte una cadena:"
   ]
  },
  {
   "cell_type": "code",
   "execution_count": null,
   "id": "5225b191",
   "metadata": {
    "vscode": {
     "languageId": "javascript"
    }
   },
   "outputs": [],
   "source": [
    "function invertirCadena(str) {\n",
    "    return str.split('').reverse().join('');\n",
    "}\n",
    "\n",
    "// Ejemplo de uso\n",
    "let texto = \"Hola Mundo\";\n",
    "console.log(`Texto original: ${texto}`);\n",
    "console.log(`Texto invertido: ${invertirCadena(texto)}`);"
   ]
  },
  {
   "cell_type": "markdown",
   "id": "83d86a3a",
   "metadata": {},
   "source": [
    "## Ejemplo de Código en Java\n",
    "\n",
    "Java es un lenguaje versátil usado en muchos entornos. Aquí hay un programa que encuentra números primos:"
   ]
  },
  {
   "cell_type": "code",
   "execution_count": null,
   "id": "1a320d28",
   "metadata": {
    "vscode": {
     "languageId": "java"
    }
   },
   "outputs": [],
   "source": [
    "public class NumerosPrimos {\n",
    "    public static boolean esPrimo(int numero) {\n",
    "        if (numero <= 1) return false;\n",
    "        for (int i = 2; i <= Math.sqrt(numero); i++) {\n",
    "            if (numero % i == 0) return false;\n",
    "        }\n",
    "        return true;\n",
    "    }\n",
    "\n",
    "    public static void main(String[] args) {\n",
    "        int limite = 20;\n",
    "        System.out.println(\"Números primos hasta \" + limite + \":\");\n",
    "        for (int i = 2; i <= limite; i++) {\n",
    "            if (esPrimo(i)) {\n",
    "                System.out.print(i + \" \");\n",
    "            }\n",
    "        }\n",
    "    }\n",
    "}"
   ]
  },
  {
   "cell_type": "markdown",
   "id": "9c325233",
   "metadata": {},
   "source": [
    "## Ejemplo de Código en C++\n",
    "\n",
    "C++ es conocido por su rendimiento y control de bajo nivel. Aquí hay un programa que suma elementos de un array:"
   ]
  },
  {
   "cell_type": "code",
   "execution_count": null,
   "id": "50b5b481",
   "metadata": {
    "vscode": {
     "languageId": "cpp"
    }
   },
   "outputs": [],
   "source": [
    "#include <iostream>\n",
    "using namespace std;\n",
    "\n",
    "int sumaArray(int arr[], int n) {\n",
    "    int suma = 0;\n",
    "    for(int i = 0; i < n; i++) {\n",
    "        suma += arr[i];\n",
    "    }\n",
    "    return suma;\n",
    "}\n",
    "\n",
    "int main() {\n",
    "    int numeros[] = {1, 2, 3, 4, 5};\n",
    "    int n = sizeof(numeros)/sizeof(numeros[0]);\n",
    "    \n",
    "    cout << \"La suma de los elementos es: \" << sumaArray(numeros, n) << endl;\n",
    "    return 0;\n",
    "}"
   ]
  }
 ],
 "metadata": {
  "language_info": {
   "name": "python"
  }
 },
 "nbformat": 4,
 "nbformat_minor": 5
}
