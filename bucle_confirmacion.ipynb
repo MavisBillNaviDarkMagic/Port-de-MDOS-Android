{
 "cells": [
  {
   "cell_type": "markdown",
   "id": "82945ab3",
   "metadata": {},
   "source": [
    "# Bucle con Confirmación del Usuario\n",
    "Un programa que implementa un bucle que solicita confirmación al usuario para continuar la iteración."
   ]
  },
  {
   "cell_type": "markdown",
   "id": "b52ef81c",
   "metadata": {},
   "source": [
    "## Importar Librerías Necesarias\n",
    "Importamos las librerías estándar de Python necesarias para manejar la entrada del usuario."
   ]
  },
  {
   "cell_type": "code",
   "execution_count": null,
   "id": "fe70ed5e",
   "metadata": {},
   "outputs": [],
   "source": [
    "import sys"
   ]
  },
  {
   "cell_type": "markdown",
   "id": "da79cac2",
   "metadata": {},
   "source": [
    "## Definir Función para Preguntar al Usuario\n",
    "Implementamos una función que gestiona la interacción con el usuario."
   ]
  },
  {
   "cell_type": "code",
   "execution_count": null,
   "id": "05066f00",
   "metadata": {},
   "outputs": [],
   "source": [
    "def preguntar_continuar():\n",
    "    while True:\n",
    "        respuesta = input(\"¿Desea continuar? (s/n): \").lower()\n",
    "        if respuesta in ['s', 'n']:\n",
    "            return respuesta == 's'\n",
    "        print(\"Por favor, responda 's' para sí o 'n' para no.\")"
   ]
  },
  {
   "cell_type": "markdown",
   "id": "8d4cffe7",
   "metadata": {},
   "source": [
    "## Implementar Bucle con Confirmación\n",
    "Creamos el bucle principal que ejecutará una tarea y solicitará confirmación."
   ]
  },
  {
   "cell_type": "code",
   "execution_count": null,
   "id": "103e8e8f",
   "metadata": {},
   "outputs": [],
   "source": [
    "def ejecutar_bucle():\n",
    "    contador = 1\n",
    "    continuar = True\n",
    "    \n",
    "    while continuar:\n",
    "        print(f\"Iteración #{contador}\")\n",
    "        contador += 1\n",
    "        \n",
    "        continuar = preguntar_continuar()\n",
    "        if not continuar:\n",
    "            print(\"Programa finalizado.\")"
   ]
  },
  {
   "cell_type": "markdown",
   "id": "e5536666",
   "metadata": {},
   "source": [
    "## Ejecutar el Programa\n",
    "Ejecutamos el bucle principal del programa."
   ]
  },
  {
   "cell_type": "code",
   "execution_count": null,
   "id": "b76082cd",
   "metadata": {},
   "outputs": [],
   "source": [
    "if __name__ == \"__main__\":\n",
    "    print(\"Iniciando programa de bucle con confirmación...\")\n",
    "    ejecutar_bucle()"
   ]
  }
 ],
 "metadata": {
  "language_info": {
   "name": "python"
  }
 },
 "nbformat": 4,
 "nbformat_minor": 5
}
