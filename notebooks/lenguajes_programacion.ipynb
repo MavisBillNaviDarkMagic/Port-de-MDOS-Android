{
 "cells": [
  {
   "cell_type": "markdown",
   "id": "7b069de1",
   "metadata": {},
   "source": [
    "# Introducción a los Lenguajes de Programación\n",
    "\n",
    "Los lenguajes de programación son herramientas fundamentales que permiten a los desarrolladores comunicarse con las computadoras. Son conjuntos de reglas y símbolos que nos permiten escribir instrucciones que una máquina puede entender y ejecutar.\n",
    "\n",
    "En este notebook, exploraremos algunos de los lenguajes de programación más populares con ejemplos básicos."
   ]
  },
  {
   "cell_type": "markdown",
   "id": "f045ec1c",
   "metadata": {},
   "source": [
    "## Python\n",
    "Python es un lenguaje de alto nivel conocido por su simplicidad y legibilidad. Aquí hay un ejemplo básico:"
   ]
  },
  {
   "cell_type": "code",
   "execution_count": null,
   "id": "0569c387",
   "metadata": {},
   "outputs": [],
   "source": [
    "# Ejemplo básico en Python\n",
    "print(\"¡Hola, Mundo!\")\n",
    "\n",
    "# Realizar una operación básica\n",
    "numero1 = 10\n",
    "numero2 = 5\n",
    "suma = numero1 + numero2\n",
    "print(f\"La suma de {numero1} y {numero2} es: {suma}\")"
   ]
  },
  {
   "cell_type": "markdown",
   "id": "54e384a2",
   "metadata": {},
   "source": [
    "## JavaScript\n",
    "JavaScript es el lenguaje principal para desarrollo web del lado del cliente. Este es un ejemplo básico:"
   ]
  },
  {
   "cell_type": "code",
   "execution_count": null,
   "id": "9d872d48",
   "metadata": {
    "vscode": {
     "languageId": "javascript"
    }
   },
   "outputs": [],
   "source": [
    "// Ejemplo básico en JavaScript\n",
    "console.log(\"¡Hola, Mundo!\");\n",
    "\n",
    "// Realizar una operación básica\n",
    "let numero1 = 10;\n",
    "let numero2 = 5;\n",
    "let suma = numero1 + numero2;\n",
    "console.log(`La suma de ${numero1} y ${numero2} es: ${suma}`);"
   ]
  },
  {
   "cell_type": "markdown",
   "id": "c1ff0567",
   "metadata": {},
   "source": [
    "## Java\n",
    "Java es un lenguaje versátil usado en desarrollo de aplicaciones empresariales. Ejemplo básico:"
   ]
  },
  {
   "cell_type": "code",
   "execution_count": null,
   "id": "4f80e132",
   "metadata": {
    "vscode": {
     "languageId": "java"
    }
   },
   "outputs": [],
   "source": [
    "public class HolaMundo {\n",
    "    public static void main(String[] args) {\n",
    "        System.out.println(\"¡Hola, Mundo!\");\n",
    "        \n",
    "        // Realizar una operación básica\n",
    "        int numero1 = 10;\n",
    "        int numero2 = 5;\n",
    "        int suma = numero1 + numero2;\n",
    "        System.out.println(\"La suma de \" + numero1 + \" y \" + numero2 + \" es: \" + suma);\n",
    "    }\n",
    "}"
   ]
  },
  {
   "cell_type": "markdown",
   "id": "5b6855f0",
   "metadata": {},
   "source": [
    "## C++\n",
    "C++ es un lenguaje de programación potente usado en desarrollo de sistemas y aplicaciones de alto rendimiento:"
   ]
  },
  {
   "cell_type": "code",
   "execution_count": null,
   "id": "d61c62f1",
   "metadata": {
    "vscode": {
     "languageId": "cpp"
    }
   },
   "outputs": [],
   "source": [
    "#include <iostream>\n",
    "using namespace std;\n",
    "\n",
    "int main() {\n",
    "    cout << \"¡Hola, Mundo!\" << endl;\n",
    "    \n",
    "    // Realizar una operación básica\n",
    "    int numero1 = 10;\n",
    "    int numero2 = 5;\n",
    "    int suma = numero1 + numero2;\n",
    "    cout << \"La suma de \" << numero1 << \" y \" << numero2 << \" es: \" << suma << endl;\n",
    "    \n",
    "    return 0;\n",
    "}"
   ]
  }
 ],
 "metadata": {
  "language_info": {
   "name": "python"
  }
 },
 "nbformat": 4,
 "nbformat_minor": 5
}
